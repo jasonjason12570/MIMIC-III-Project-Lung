{
 "cells": [
  {
   "cell_type": "code",
   "execution_count": 1,
   "id": "9445072a-3e30-475e-abc2-b3d308d6daa5",
   "metadata": {},
   "outputs": [],
   "source": [
    "import os\n",
    "import pymysql\n",
    "import pandas as pd\n",
    "\n",
    "host = os.getenv('MYSQL_HOST')\n",
    "port = os.getenv('MYSQL_PORT')\n",
    "user = os.getenv('MYSQL_USER')\n",
    "password = os.getenv('MYSQL_PASSWORD')\n",
    "database = os.getenv('MYSQL_DATABASE')\n",
    "\n",
    "conn = pymysql.connect(\n",
    "    host=host,\n",
    "    port=int(3306),\n",
    "    user=\"root\",\n",
    "    passwd=password,\n",
    "    db=\"mimiciiiv14\",\n",
    "    charset='utf8')\n"
   ]
  },
  {
   "cell_type": "code",
   "execution_count": 2,
   "id": "7863544a-c40d-402a-8570-e52d78e3d612",
   "metadata": {},
   "outputs": [],
   "source": [
    "'''\n",
    "admission = pd.read_sql_query(\"SELECT * FROM `admissions` WHERE 1\",conn)\n",
    "chartevents = pd.read_sql_query(\"SELECT * FROM `chartevents` WHERE 1\",conn)\n",
    "diagnoses_icd = pd.read_sql_query(\"SELECT * FROM `diagnoses_icd` WHERE 1\",conn)\n",
    "d_icd_diagnoses = pd.read_sql_query(\"SELECT * FROM `d_icd_diagnoses` WHERE 1\",conn)\n",
    "d_items = pd.read_sql_query(\"SELECT * FROM `d_items` WHERE 1\",conn)\n",
    "icustays = pd.read_sql_query(\"SELECT * FROM `icustays` WHERE 1\",conn)\n",
    "'''"
   ]
  },
  {
   "cell_type": "markdown",
   "id": "17b0917a-f9c5-42c6-937a-3b124847e6a7",
   "metadata": {},
   "source": [
    "## 總TOPIC:\n",
    "- 目標:\n",
    "    預測COPD在此次住院內死亡之COPD可能性\n",
    "- 方法:\n",
    "    1. 住院的case有進icu紀錄當作起始點\n",
    "    2. ***排除掉 : ***\n",
    "        1. icu天數大於總住院天數\n",
    "        2. 年齡小於18\n",
    "        3. 入院診斷描述-文字內沒有「COPD或其他跟COPD有關的描述」\n",
    "            - elix hauser方式去利用共病症切分data使得他可以針對糖尿病是否有copd\n",
    "            - 適用embalance落差嚴重\n",
    "    4. 分群：出院診斷有 COPD/none COPD\n",
    "    5. 預測在此次ICU內死亡之COPD可能性\n",
    "- table位置:\n",
    "    1. icustays內之Intime\n",
    "    2. ***排除掉 : ***\n",
    "        1. (***icustays***/OUTTime-***icustays***/Intime)>(***admission***/DISCHTIME-***admission***/ADMITTIME)\n",
    "        2. \n",
    "    3. \n",
    "    4. admission內之diagnosis\n",
    "    5.\n",
    "    \n",
    "\n",
    "#### SCHEMA:\n",
    "https://mit-lcp.github.io/mimic-schema-spy/\n"
   ]
  },
  {
   "cell_type": "code",
   "execution_count": null,
   "id": "8cebea51-8368-4fbb-8ee3-399c4affe23a",
   "metadata": {},
   "outputs": [],
   "source": []
  }
 ],
 "metadata": {
  "kernelspec": {
   "display_name": "Python 3",
   "language": "python",
   "name": "python3"
  },
  "language_info": {
   "codemirror_mode": {
    "name": "ipython",
    "version": 3
   },
   "file_extension": ".py",
   "mimetype": "text/x-python",
   "name": "python",
   "nbconvert_exporter": "python",
   "pygments_lexer": "ipython3",
   "version": "3.8.8"
  }
 },
 "nbformat": 4,
 "nbformat_minor": 5
}
